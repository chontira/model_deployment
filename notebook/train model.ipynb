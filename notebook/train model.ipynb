{
  "cells": [
    {
      "cell_type": "markdown",
      "metadata": {},
      "source": [
        "Ref: https://scikit-learn.org/stable/auto_examples/compose/plot_column_transformer_mixed_types.html"
      ]
    },
    {
      "cell_type": "code",
      "execution_count": 1,
      "metadata": {
        "collapsed": false
      },
      "outputs": [],
      "source": [
        "# Author: Pedro Morales <part.morales@gmail.com>\n",
        "#\n",
        "# License: BSD 3 clause"
      ]
    },
    {
      "cell_type": "code",
      "execution_count": 2,
      "metadata": {
        "collapsed": false
      },
      "outputs": [],
      "source": [
        "import numpy as np\n",
        "import pickle\n",
        "\n",
        "from sklearn.compose import ColumnTransformer\n",
        "from sklearn.datasets import fetch_openml\n",
        "from sklearn.feature_selection import SelectPercentile, chi2\n",
        "from sklearn.impute import SimpleImputer\n",
        "from sklearn.linear_model import LogisticRegression\n",
        "from sklearn.model_selection import RandomizedSearchCV, train_test_split\n",
        "from sklearn.pipeline import Pipeline\n",
        "from sklearn.preprocessing import OneHotEncoder, StandardScaler\n",
        "from sklearn.metrics import classification_report, confusion_matrix\n",
        "\n",
        "np.random.seed(0)"
      ]
    },
    {
      "cell_type": "markdown",
      "metadata": {},
      "source": [
        "Load data from https://www.openml.org/d/40945\n",
        "\n"
      ]
    },
    {
      "cell_type": "code",
      "execution_count": 3,
      "metadata": {
        "collapsed": false
      },
      "outputs": [],
      "source": [
        "X, y = fetch_openml(\"titanic\", version=1, as_frame=True, return_X_y=True)\n",
        "\n",
        "# Alternatively X and y can be obtained directly from the frame attribute:\n",
        "# X = titanic.frame.drop('survived', axis=1)\n",
        "# y = titanic.frame['survived']"
      ]
    },
    {
      "cell_type": "markdown",
      "metadata": {},
      "source": [
        "split the data into training and testing sets\n",
        "\n"
      ]
    },
    {
      "cell_type": "code",
      "execution_count": 4,
      "metadata": {
        "collapsed": false
      },
      "outputs": [],
      "source": [
        "X_train, X_test, y_train, y_test = train_test_split(X, y, test_size=0.2, random_state=0)"
      ]
    },
    {
      "cell_type": "markdown",
      "metadata": {},
      "source": [
        "only select a subset of columns to simplify example."
      ]
    },
    {
      "cell_type": "code",
      "execution_count": 5,
      "metadata": {
        "collapsed": false
      },
      "outputs": [],
      "source": [
        "# column names to use\n",
        "subset_feature = [\"embarked\", \"sex\", \"pclass\", \"age\", \"fare\"]\n",
        "X_train, X_test = X_train[subset_feature], X_test[subset_feature]"
      ]
    },
    {
      "cell_type": "code",
      "execution_count": 6,
      "metadata": {},
      "outputs": [
        {
          "name": "stdout",
          "output_type": "stream",
          "text": [
            "<class 'pandas.core.frame.DataFrame'>\n",
            "Index: 1047 entries, 1118 to 684\n",
            "Data columns (total 5 columns):\n",
            " #   Column    Non-Null Count  Dtype   \n",
            "---  ------    --------------  -----   \n",
            " 0   embarked  1045 non-null   category\n",
            " 1   sex       1047 non-null   category\n",
            " 2   pclass    1047 non-null   int64   \n",
            " 3   age       841 non-null    float64 \n",
            " 4   fare      1046 non-null   float64 \n",
            "dtypes: category(2), float64(2), int64(1)\n",
            "memory usage: 35.0 KB\n"
          ]
        }
      ],
      "source": [
        "X_train.info()"
      ]
    },
    {
      "cell_type": "markdown",
      "metadata": {},
      "source": [
        "We will train our classifier with the following features:\n",
        "\n",
        "Numeric Features:\n",
        "\n",
        "* ``age``: float;\n",
        "* ``fare``: float.\n",
        "\n",
        "Categorical Features:\n",
        "\n",
        "* ``embarked``: categories encoded as strings ``{'C', 'S', 'Q'}``;\n",
        "* ``sex``: categories encoded as strings ``{'female', 'male'}``;\n",
        "* ``pclass``: ordinal integers ``{1, 2, 3}``.\n",
        "\n",
        "We can observe that the `embarked` and `sex` columns were tagged as\n",
        "`category` columns when loading the data with ``fetch_openml``. Therefore, we\n",
        "can use this information to dispatch the categorical columns to the\n",
        "``categorical_transformer`` and the remaining columns to the\n",
        "``numerical_transformer``.\n",
        "\n",
        "We create the preprocessing pipelines for both numeric and categorical data.\n",
        "Note that ``pclass`` could either be treated as a categorical or numeric\n",
        "feature.\n",
        "\n"
      ]
    },
    {
      "cell_type": "code",
      "execution_count": 7,
      "metadata": {
        "collapsed": false
      },
      "outputs": [],
      "source": [
        "from sklearn.compose import make_column_selector as selector\n",
        "\n",
        "numeric_transformer = Pipeline(\n",
        "    steps=[(\"imputer\", SimpleImputer(strategy=\"median\")), (\"scaler\", StandardScaler())]\n",
        ")\n",
        "\n",
        "categorical_transformer = Pipeline(\n",
        "    steps=[\n",
        "        (\"encoder\", OneHotEncoder(handle_unknown=\"ignore\")),\n",
        "        (\"selector\", SelectPercentile(chi2, percentile=50)),\n",
        "    ]\n",
        ")\n",
        "\n",
        "preprocessor = ColumnTransformer(\n",
        "    transformers=[\n",
        "        (\"num\", numeric_transformer, selector(dtype_exclude=\"category\")),\n",
        "        (\"cat\", categorical_transformer, selector(dtype_include=\"category\")),\n",
        "    ]\n",
        ")\n",
        "clf = Pipeline(\n",
        "    steps=[(\"preprocessor\", preprocessor), (\"classifier\", LogisticRegression())]\n",
        ")"
      ]
    },
    {
      "cell_type": "markdown",
      "metadata": {},
      "source": [
        "Finally, you need to train a classification model (feel free to choose any) on training data and check its performance on testing data. "
      ]
    },
    {
      "cell_type": "code",
      "execution_count": 8,
      "metadata": {},
      "outputs": [
        {
          "name": "stdout",
          "output_type": "stream",
          "text": [
            "[[143  19]\n",
            " [ 34  66]]\n",
            "              precision    recall  f1-score   support\n",
            "\n",
            "           0       0.81      0.88      0.84       162\n",
            "           1       0.78      0.66      0.71       100\n",
            "\n",
            "    accuracy                           0.80       262\n",
            "   macro avg       0.79      0.77      0.78       262\n",
            "weighted avg       0.80      0.80      0.79       262\n",
            "\n"
          ]
        }
      ],
      "source": [
        "# train model\n",
        "clf.fit(X_train, y_train)\n",
        "\n",
        "# make predictions on the testing data\n",
        "y_predict = clf.predict(X_test)\n",
        "\n",
        "# check results\n",
        "print(confusion_matrix(y_test, y_predict))\n",
        "print(classification_report(y_test, y_predict)) "
      ]
    },
    {
      "cell_type": "code",
      "execution_count": 9,
      "metadata": {},
      "outputs": [],
      "source": [
        "# save the iris classification model as a pickle file\n",
        "model_pkl_file = \"../model/titanic_classifier_model.pkl\"  \n",
        "\n",
        "with open(model_pkl_file, 'wb') as file:\n",
        "    pickle.dump(clf, file)"
      ]
    }
  ],
  "metadata": {
    "kernelspec": {
      "display_name": "model-deployment-XtWucRpb-py3.12",
      "language": "python",
      "name": "python3"
    },
    "language_info": {
      "codemirror_mode": {
        "name": "ipython",
        "version": 3
      },
      "file_extension": ".py",
      "mimetype": "text/x-python",
      "name": "python",
      "nbconvert_exporter": "python",
      "pygments_lexer": "ipython3",
      "version": "3.12.5"
    }
  },
  "nbformat": 4,
  "nbformat_minor": 0
}
