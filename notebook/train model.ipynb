{
 "cells": [
  {
   "cell_type": "markdown",
   "metadata": {},
   "source": [
    "Ref: https://scikit-learn.org/stable/auto_examples/compose/plot_column_transformer_mixed_types.html"
   ]
  },
  {
   "cell_type": "code",
   "execution_count": null,
   "metadata": {},
   "outputs": [],
   "source": [
    "# Author: Pedro Morales <part.morales@gmail.com>\n",
    "#\n",
    "# License: BSD 3 clause"
   ]
  },
  {
   "cell_type": "code",
   "execution_count": null,
   "metadata": {},
   "outputs": [],
   "source": [
    "import numpy as np\n",
    "import pandas as pd\n",
    "import pickle\n",
    "\n",
    "from sklearn.compose import ColumnTransformer\n",
    "from sklearn.datasets import fetch_openml\n",
    "from sklearn.feature_selection import SelectPercentile, chi2\n",
    "from sklearn.impute import SimpleImputer\n",
    "from sklearn.linear_model import LogisticRegression\n",
    "from sklearn.model_selection import RandomizedSearchCV, train_test_split\n",
    "from sklearn.pipeline import Pipeline\n",
    "from sklearn.preprocessing import OneHotEncoder, StandardScaler\n",
    "from sklearn.metrics import classification_report, confusion_matrix\n",
    "\n",
    "np.random.seed(0)"
   ]
  },
  {
   "cell_type": "markdown",
   "metadata": {},
   "source": [
    "Load data from https://www.openml.org/d/40945\n",
    "\n"
   ]
  },
  {
   "cell_type": "code",
   "execution_count": null,
   "metadata": {},
   "outputs": [],
   "source": [
    "X, y = fetch_openml(\"titanic\", version=1, as_frame=True, return_X_y=True)\n",
    "\n",
    "# Alternatively X and y can be obtained directly from the frame attribute:\n",
    "# X = titanic.frame.drop('survived', axis=1)\n",
    "# y = titanic.frame['survived']"
   ]
  },
  {
   "cell_type": "markdown",
   "metadata": {},
   "source": [
    "split the data into training and testing sets\n",
    "\n"
   ]
  },
  {
   "cell_type": "code",
   "execution_count": null,
   "metadata": {},
   "outputs": [],
   "source": [
    "X_train, X_test, y_train, y_test = train_test_split(X, y, test_size=0.2, random_state=0)"
   ]
  },
  {
   "cell_type": "markdown",
   "metadata": {},
   "source": [
    "only select a subset of columns to simplify example."
   ]
  },
  {
   "cell_type": "code",
   "execution_count": null,
   "metadata": {},
   "outputs": [],
   "source": [
    "# column names to use\n",
    "subset_feature = [\"embarked\", \"sex\", \"pclass\", \"age\", \"fare\"]\n",
    "X_train, X_test = X_train[subset_feature], X_test[subset_feature]"
   ]
  },
  {
   "cell_type": "code",
   "execution_count": null,
   "metadata": {},
   "outputs": [],
   "source": [
    "X_train.info()"
   ]
  },
  {
   "cell_type": "markdown",
   "metadata": {},
   "source": [
    "We will train our classifier with the following features:\n",
    "\n",
    "Numeric Features:\n",
    "\n",
    "* ``age``: float;\n",
    "* ``fare``: float.\n",
    "\n",
    "Categorical Features:\n",
    "\n",
    "* ``embarked``: categories encoded as strings ``{'C', 'S', 'Q'}``;\n",
    "* ``sex``: categories encoded as strings ``{'female', 'male'}``;\n",
    "* ``pclass``: ordinal integers ``{1, 2, 3}``.\n",
    "\n",
    "We can observe that the `embarked` and `sex` columns were tagged as\n",
    "`category` columns when loading the data with ``fetch_openml``. Therefore, we\n",
    "can use this information to dispatch the categorical columns to the\n",
    "``categorical_transformer`` and the remaining columns to the\n",
    "``numerical_transformer``.\n",
    "\n",
    "We create the preprocessing pipelines for both numeric and categorical data.\n",
    "Note that ``pclass`` could either be treated as a categorical or numeric\n",
    "feature.\n",
    "\n"
   ]
  },
  {
   "cell_type": "code",
   "execution_count": null,
   "metadata": {},
   "outputs": [],
   "source": [
    "from sklearn.compose import make_column_selector as selector\n",
    "\n",
    "numeric_features = [\"age\", \"fare\"]\n",
    "numeric_transformer = Pipeline(\n",
    "    steps=[(\"imputer\", SimpleImputer(strategy=\"median\")), (\"scaler\", StandardScaler())]\n",
    ")\n",
    "\n",
    "categorical_features = [\"embarked\", \"sex\", \"pclass\"]\n",
    "categorical_transformer = Pipeline(\n",
    "    steps=[\n",
    "        (\"encoder\", OneHotEncoder(handle_unknown=\"ignore\")),\n",
    "        (\"selector\", SelectPercentile(chi2, percentile=50)),\n",
    "    ]\n",
    ")\n",
    "\n",
    "preprocessor = ColumnTransformer(\n",
    "    [\n",
    "        (\"num\", numeric_transformer, numeric_features),\n",
    "        (\"cat\", categorical_transformer, categorical_features),\n",
    "    ]\n",
    ")\n",
    "# clf = Pipeline(\n",
    "#     steps=[(\"preprocessor\", preprocessor), (\"classifier\", LogisticRegression())]\n",
    "# )\n",
    "\n",
    "X_train_processed = preprocessor.fit_transform(X_train, y_train)\n",
    "X_test_processed = preprocessor.transform(X_test)\n",
    "X_train_processed"
   ]
  },
  {
   "cell_type": "code",
   "execution_count": null,
   "metadata": {},
   "outputs": [],
   "source": [
    "!python --version"
   ]
  },
  {
   "cell_type": "markdown",
   "metadata": {},
   "source": [
    "Finally, you need to train a classification model (feel free to choose any) on training data and check its performance on testing data. "
   ]
  },
  {
   "cell_type": "code",
   "execution_count": null,
   "metadata": {},
   "outputs": [],
   "source": [
    "clf = LogisticRegression()\n",
    "\n",
    "# train model\n",
    "clf.fit(X_train_processed, y_train)\n",
    "\n",
    "# make predictions on the testing data\n",
    "y_predict = clf.predict(X_test_processed)\n",
    "\n",
    "# check results\n",
    "print(confusion_matrix(y_test, y_predict))\n",
    "print(classification_report(y_test, y_predict))"
   ]
  },
  {
   "cell_type": "code",
   "execution_count": null,
   "metadata": {},
   "outputs": [],
   "source": [
    "# save the iris classification model as a pickle file\n",
    "prepro_pkl_file = \"../model/titanic_preprocessor.pkl\"\n",
    "model_pkl_file = \"../model/titanic_classifier_model.pkl\"\n",
    "\n",
    "with open(prepro_pkl_file, \"wb\") as file:\n",
    "    pickle.dump(preprocessor, file)\n",
    "with open(model_pkl_file, \"wb\") as file:\n",
    "    pickle.dump(clf, file)"
   ]
  },
  {
   "cell_type": "code",
   "execution_count": null,
   "metadata": {},
   "outputs": [],
   "source": [
    "X_test.head()"
   ]
  },
  {
   "cell_type": "code",
   "execution_count": null,
   "metadata": {},
   "outputs": [],
   "source": [
    "# load model from pickle file\n",
    "with open(prepro_pkl_file, \"rb\") as file:\n",
    "    prepro = pickle.load(file)\n",
    "with open(model_pkl_file, \"rb\") as file:\n",
    "    model = pickle.load(file)"
   ]
  },
  {
   "cell_type": "code",
   "execution_count": null,
   "metadata": {},
   "outputs": [],
   "source": [
    "prepro_data = prepro.transform(X_test.head())\n",
    "model.predict(prepro_data)"
   ]
  },
  {
   "cell_type": "code",
   "execution_count": null,
   "metadata": {},
   "outputs": [],
   "source": [
    "input = pd.DataFrame([[\"S\", \"male\", 3, 38, 7.8958]], columns=X_test.columns)\n",
    "prepro_data = prepro.transform(input)\n",
    "model.predict(prepro_data)"
   ]
  },
  {
   "cell_type": "code",
   "execution_count": null,
   "metadata": {},
   "outputs": [],
   "source": [
    "input = pd.DataFrame([[\"S\", \"female\", 3, 21, 7.8958]], columns=X_test.columns)\n",
    "prepro_data = prepro.transform(input)\n",
    "model.predict(prepro_data)"
   ]
  }
 ],
 "metadata": {
  "kernelspec": {
   "display_name": "model-deployment-XtWucRpb-py3.12",
   "language": "python",
   "name": "python3"
  },
  "language_info": {
   "codemirror_mode": {
    "name": "ipython",
    "version": 3
   },
   "file_extension": ".py",
   "mimetype": "text/x-python",
   "name": "python",
   "nbconvert_exporter": "python",
   "pygments_lexer": "ipython3",
   "version": "3.12.5"
  }
 },
 "nbformat": 4,
 "nbformat_minor": 0
}
